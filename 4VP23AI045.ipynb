{
 "cells": [
  {
   "cell_type": "markdown",
   "id": "9145b6df",
   "metadata": {},
   "source": [
    "## 1.Develop a python program to read n digit integer number and seperate the integr number and display each digit "
   ]
  },
  {
   "cell_type": "code",
   "execution_count": 6,
   "id": "ed91debe",
   "metadata": {},
   "outputs": [
    {
     "name": "stdout",
     "output_type": "stream",
     "text": [
      "enter the digits:4\n",
      "enter a 4-digit integer5678\n",
      "5\n",
      "6\n",
      "7\n",
      "8\n"
     ]
    }
   ],
   "source": [
    "n=int(input(\"enter the digits:\"))\n",
    "if n>0:\n",
    "    number=int(input(f\"enter a {n}-digit integer\"))\n",
    "    if number>=10**(n-1) and number<10**n:\n",
    "        for i in range(n):\n",
    "            digit=number//(10**(n-1))\n",
    "            print(digit)\n",
    "            number%=10**(n-1)\n",
    "            n-=1\n",
    "    else:\n",
    "        print(f\"please enter a{n}-digit integer\")\n",
    "else:\n",
    "    print(\"please enter a valid number of digits(greater than zero).\")"
   ]
  },
  {
   "cell_type": "markdown",
   "id": "aca96885",
   "metadata": {},
   "source": []
  },
  {
   "cell_type": "markdown",
   "id": "0c0d9402",
   "metadata": {},
   "source": [
    "## 2."
   ]
  },
  {
   "cell_type": "code",
   "execution_count": 9,
   "id": "7cd93e5a",
   "metadata": {},
   "outputs": [
    {
     "name": "stdout",
     "output_type": "stream",
     "text": [
      "enter the first number:10\n",
      "enter the second number:5\n",
      "enter the third number:7\n",
      "enter the fourth number:3\n",
      "the sorted numbers are : 3 5 7 10\n"
     ]
    }
   ],
   "source": [
    "a=int(input(\"enter the first number:\"))\n",
    "b=int(input(\"enter the second number:\"))\n",
    "c=int(input(\"enter the third number:\"))\n",
    "d=int(input(\"enter the fourth number:\"))\n",
    "if a>b:a,b=b,a\n",
    "if c>d:c,d=d,c\n",
    "if a>c:a,c=c,a\n",
    "if b>d:b,d=d,b\n",
    "if b>c:b,c=c,b\n",
    "print(\"the sorted numbers are :\",a,b,c,d)\n",
    "    \n"
   ]
  },
  {
   "cell_type": "markdown",
   "id": "b104b0fe",
   "metadata": {},
   "source": [
    "## 4."
   ]
  },
  {
   "cell_type": "code",
   "execution_count": 5,
   "id": "69a23006",
   "metadata": {},
   "outputs": [
    {
     "name": "stdout",
     "output_type": "stream",
     "text": [
      "enter an n-digit number:12345\n",
      "not a palindrome\n"
     ]
    }
   ],
   "source": [
    "number=int(input(\"enter an n-digit number:\"))\n",
    "original_number=number\n",
    "reversed_number=0\n",
    "while number>0:\n",
    "    digit=number%10\n",
    "    reversed_number=reversed_number*10+digit\n",
    "    number//=10\n",
    "if original_number==reversed_number:\n",
    "    print(\"palindrome\")\n",
    "else:\n",
    "    print(\"not a palindrome\")"
   ]
  },
  {
   "cell_type": "markdown",
   "id": "5e5d53fd",
   "metadata": {},
   "source": [
    "## 5."
   ]
  },
  {
   "cell_type": "code",
   "execution_count": 8,
   "id": "d22528cb",
   "metadata": {},
   "outputs": [
    {
     "name": "stdout",
     "output_type": "stream",
     "text": [
      "enter an integer for the multiplication table:5\n",
      "multiplication table for 5\n",
      "5X1=5\n",
      "5X2=10\n",
      "5X3=15\n",
      "5X4=20\n",
      "5X5=25\n",
      "5X6=30\n",
      "5X7=35\n",
      "5X8=40\n",
      "5X9=45\n",
      "5X10=50\n"
     ]
    }
   ],
   "source": [
    "n=int(input(\"enter an integer for the multiplication table:\"))\n",
    "print(f\"multiplication table for {n}\")\n",
    "for i in range(1,11):\n",
    "    result=n*i\n",
    "    print(f\"{n}X{i}={result}\")"
   ]
  },
  {
   "cell_type": "markdown",
   "id": "a2725401",
   "metadata": {},
   "source": [
    "## 3."
   ]
  },
  {
   "cell_type": "code",
   "execution_count": 3,
   "id": "074444dd",
   "metadata": {},
   "outputs": [
    {
     "name": "stdout",
     "output_type": "stream",
     "text": [
      "enter the number of elements:6\n",
      "enter number 1:3\n",
      "enter number 2:4\n",
      "enter number 3:5\n",
      "enter number 4:6\n",
      "enter number 5:8\n",
      "enter number 6:9\n",
      "Mean:5.833333333333333\n",
      "Median:5.5\n",
      "Mode:no mode\n",
      "Sample variance:5.366666666666667\n",
      "Population variance:4.472222222222222\n",
      "Sample standard deviation:2.316606713852541\n",
      "population standard deviation:2.1147629234082532\n"
     ]
    }
   ],
   "source": [
    "n=int(input(\"enter the number of elements:\"))\n",
    "numbers=[int(input(f\"enter number {i+1}:\"))for i in range (n)]\n",
    "mean=sum(numbers)/n\n",
    "numbers.sort()\n",
    "if n%2==0:\n",
    "    median=(numbers[n//2-1]+numbers[n//2])/2\n",
    "else:\n",
    "    median =numbers[n//2]\n",
    "frequency={num:numbers.count(num)for num in numbers}\n",
    "max_count=max(frequency.values())\n",
    "mode=[k for k ,v in frequency.items()if v==max_count]\n",
    "if len(mode)==n:\n",
    "    mode=\"no mode\"\n",
    "mean_difference_squared_sum=sum((x-mean)**2 for x in numbers)\n",
    "variance_sample=mean_difference_squared_sum/(n-1) if n>1 else 0\n",
    "variance_population=mean_difference_squared_sum/n\n",
    "std_deviation_sample=variance_sample**0.5\n",
    "std_deviation_population=variance_population**0.5\n",
    "print(f\"Mean:{mean}\")\n",
    "print(f\"Median:{median}\")\n",
    "print(f\"Mode:{mode}\")\n",
    "print(f\"Sample variance:{variance_sample}\")\n",
    "print(f\"Population variance:{variance_population}\")\n",
    "print(f\"Sample standard deviation:{std_deviation_sample}\")\n",
    "print(f\"population standard deviation:{std_deviation_population}\")\n",
    "\n",
    "\n",
    "    "
   ]
  },
  {
   "cell_type": "markdown",
   "id": "2c06e26b",
   "metadata": {},
   "source": [
    "## 6."
   ]
  },
  {
   "cell_type": "code",
   "execution_count": 3,
   "id": "4e00ea43",
   "metadata": {},
   "outputs": [
    {
     "name": "stdout",
     "output_type": "stream",
     "text": [
      "enter the input number:253\n",
      "the reverse number is : 352\n"
     ]
    }
   ],
   "source": [
    "number=int(input(\"enter the input number:\"))\n",
    "revs_number=0\n",
    "while(number>0):\n",
    "    remainder=number%10\n",
    "    revs_number=(revs_number*10)+remainder\n",
    "    number=number//10\n",
    "print(\"the reverse number is : {}\".format(revs_number))\n",
    "    "
   ]
  },
  {
   "cell_type": "markdown",
   "id": "1ecf5982",
   "metadata": {},
   "source": [
    "## 7."
   ]
  },
  {
   "cell_type": "code",
   "execution_count": 8,
   "id": "eb9e7353",
   "metadata": {},
   "outputs": [
    {
     "name": "stdout",
     "output_type": "stream",
     "text": [
      "enter the user input:253\n",
      "enter the 1st position which you want to swap:2\n",
      "enter the 2nd position which you want to swap:3\n",
      "original number: 253\n",
      "interchanged number: 235\n"
     ]
    }
   ],
   "source": [
    "def interchange_digits(number,pos1,pos2):\n",
    "    number_str=str(number)\n",
    "    number_list=list(number_str)\n",
    "    number_list[pos1-1],number_list[pos2-1]=number_list[pos2-1],number_list[pos1-1]\n",
    "    interchanged_number=int(''.join(number_list))\n",
    "    return interchanged_number\n",
    "number=int(input(\"enter the user input:\"))\n",
    "pos1=int(input(\"enter the 1st position which you want to swap:\"))\n",
    "pos2=int(input(\"enter the 2nd position which you want to swap:\"))\n",
    "interchanged_number=interchange_digits(number,pos1,pos2)\n",
    "print(\"original number:\",number)\n",
    "print(\"interchanged number:\",interchanged_number)\n",
    "\n"
   ]
  },
  {
   "cell_type": "markdown",
   "id": "8cc6d0f0",
   "metadata": {},
   "source": [
    "## 8.\n"
   ]
  },
  {
   "cell_type": "code",
   "execution_count": 11,
   "id": "c22c3dd8",
   "metadata": {},
   "outputs": [
    {
     "name": "stdout",
     "output_type": "stream",
     "text": [
      "['Hello', 'Good', 'How', 'Simple']\n"
     ]
    }
   ],
   "source": [
    "def capitalize_strings(string_list):\n",
    "    return[s.capitalize()for s in string_list]\n",
    "input_strings=['hello','good','how','simple']\n",
    "capitalized_strings=capitalize_strings(input_strings)\n",
    "print(capitalized_strings)"
   ]
  },
  {
   "cell_type": "code",
   "execution_count": null,
   "id": "3fc10645",
   "metadata": {},
   "outputs": [],
   "source": []
  }
 ],
 "metadata": {
  "kernelspec": {
   "display_name": "Python 3 (ipykernel)",
   "language": "python",
   "name": "python3"
  },
  "language_info": {
   "codemirror_mode": {
    "name": "ipython",
    "version": 3
   },
   "file_extension": ".py",
   "mimetype": "text/x-python",
   "name": "python",
   "nbconvert_exporter": "python",
   "pygments_lexer": "ipython3",
   "version": "3.10.9"
  }
 },
 "nbformat": 4,
 "nbformat_minor": 5
}
